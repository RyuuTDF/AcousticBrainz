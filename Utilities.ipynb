{
 "cells": [
  {
   "cell_type": "markdown",
   "metadata": {
    "deletable": true,
    "editable": true
   },
   "source": [
    "# Utility functions"
   ]
  },
  {
   "cell_type": "markdown",
   "metadata": {},
   "source": [
    "# Load Settings"
   ]
  },
  {
   "cell_type": "code",
   "execution_count": null,
   "metadata": {},
   "outputs": [],
   "source": [
    "from os import environ\n",
    "from dotenv import load_dotenv, find_dotenv\n",
    "\n",
    "load_dotenv(find_dotenv())\n",
    "\n",
    "settings = {\n",
    "    \"path\": environ.get(\"PATH_TO_DATASET\"),\n",
    "    \"loaded_data\": environ.get('LOADED_TRAINING_DATA'),\n",
    "    \n",
    "    \"very_few\": environ.get('VERY_FEW_RECORDS', False),  # Limit the dataset to very few records, useful during development\n",
    "}"
   ]
  },
  {
   "cell_type": "markdown",
   "metadata": {
    "deletable": true,
    "editable": true
   },
   "source": [
    "## Load groundtruth"
   ]
  },
  {
   "cell_type": "code",
   "execution_count": null,
   "metadata": {
    "deletable": true,
    "editable": true
   },
   "outputs": [],
   "source": [
    "import pandas as pd\n",
    "\n",
    "def load_groundtruth(filename):\n",
    "    '''Load groundtruth tsv and process it\n",
    "    \n",
    "    Input:\n",
    "        filename  string  Groundtruth to load (ex. '/home/user/groundtruth/acousticbrainz-mediaeval2017-tagtraum-train.tsv')\n",
    "        \n",
    "    Return:\n",
    "        DataFrame   With columns: 'recordingmbid', 'genre1', 'main_genres'\n",
    "    '''\n",
    "\n",
    "    # Read tsv file into groundtruth and extract only id and main genre from it\n",
    "    groundtruth_raw = pd.read_table(filename)\n",
    "\n",
    "    # Define a predicate to determine if the recordmbid is in our dataset\n",
    "    def isInLoadedDataset(id):\n",
    "        return id[0] in settings['loaded_data']\n",
    "\n",
    "    # Filter only records with a recordmbid we have in our dataset\n",
    "    groundtruth_available_labels = groundtruth_raw.apply(lambda x: isInLoadedDataset(x['recordingmbid']), axis=1)\n",
    "    groundtruth_available = groundtruth_raw[groundtruth_available_labels]\n",
    "\n",
    "    groundtruth = groundtruth_available[['recordingmbid', 'genre1', 'genre2']].copy()\n",
    "\n",
    "    def extract_main_genres(record):\n",
    "        return record[~record.str.contains(\"-\", na=True)].tolist()\n",
    "\n",
    "    groundtruth['main_genres'] = groundtruth_available.apply(lambda x: extract_main_genres(x), axis=1)\n",
    "    \n",
    "    return groundtruth\n"
   ]
  },
  {
   "cell_type": "markdown",
   "metadata": {},
   "source": [
    "# Other"
   ]
  },
  {
   "cell_type": "code",
   "execution_count": null,
   "metadata": {},
   "outputs": [],
   "source": [
    "def loadFeatures(recordingmbid):\n",
    "    '''Load raw feature file of a record into an object'''\n",
    "    feature_file_path = '{basepath}acousticbrainz-mediaeval-train/{id_prefix}/{id}.json'.format(\n",
    "        basepath = settings['path'], id_prefix=recordingmbid[0:2], id = recordingmbid);\n",
    "    \n",
    "    with open(feature_file_path) as feature_file:    \n",
    "        data = json.load(feature_file)\n",
    "    \n",
    "    return data\n",
    "\n",
    "def pettyPrintJSON(object_to_print):\n",
    "    print(json.dumps(object_to_print, sort_keys=True, indent=4))\n",
    "    \n",
    "\n",
    "def getOnlyUsedFeatures(recordingmbid):\n",
    "    '''Extract used functions from the raw feature file'''\n",
    "    all_features = loadFeatures(recordingmbid)\n",
    "    \n",
    "    used_features = [\n",
    "        'lowlevel.mfcc.mean',\n",
    "         'lowlevel.average_loudness',\n",
    "         'lowlevel.spectral_energy.mean']\n",
    "    \n",
    "    result_features = []\n",
    "    \n",
    "    for feature_name in used_features:\n",
    "        reduced_features = all_features\n",
    "\n",
    "        for k in feature_name.split('.'):\n",
    "            reduced_features = reduced_features[k]\n",
    "            \n",
    "        if isinstance(reduced_features, float):\n",
    "            result_features.append(reduced_features)\n",
    "        else:\n",
    "            result_features.extend(reduced_features)\n",
    "        \n",
    "    return pd.Series(result_features)"
   ]
  }
 ],
 "metadata": {
  "kernelspec": {
   "display_name": "mmsr",
   "language": "python",
   "name": "mmsr"
  },
  "language_info": {
   "codemirror_mode": {
    "name": "ipython",
    "version": 2
   },
   "file_extension": ".py",
   "mimetype": "text/x-python",
   "name": "python",
   "nbconvert_exporter": "python",
   "pygments_lexer": "ipython2",
   "version": "2.7.12+"
  }
 },
 "nbformat": 4,
 "nbformat_minor": 2
}
