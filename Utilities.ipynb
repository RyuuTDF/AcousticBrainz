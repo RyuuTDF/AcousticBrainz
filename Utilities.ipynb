{
 "cells": [
  {
   "cell_type": "markdown",
   "metadata": {},
   "source": [
    "# Utility functions"
   ]
  },
  {
   "cell_type": "markdown",
   "metadata": {},
   "source": [
    "## Load groundtruth"
   ]
  },
  {
   "cell_type": "code",
   "execution_count": null,
   "metadata": {},
   "outputs": [],
   "source": [
    "import pandas as pd\n",
    "\n",
    "def load_groundtruth(filename):\n",
    "    '''Load groundtruth tsv and process it\n",
    "    \n",
    "    Input:\n",
    "        filename  string  Groundtruth to load (ex. '/home/user/groundtruth/acousticbrainz-mediaeval2017-tagtraum-train.tsv')\n",
    "        \n",
    "    Return:\n",
    "        DataFrame   With columns: 'recordingmbid', 'genre1', 'main_genres'\n",
    "    '''\n",
    "\n",
    "    # Read tsv file into groundtruth and extract only id and main genre from it\n",
    "    groundtruth_raw = pd.read_table(filename)\n",
    "\n",
    "    # Define a predicate to determine if the recordmbid is in our dataset\n",
    "    def isInLoadedDataset(id):\n",
    "        return id[0] in settings['loaded_data']\n",
    "\n",
    "    # Filter only records with a recordmbid we have in our dataset\n",
    "    groundtruth_available_labels = groundtruth_raw.apply(lambda x: isInLoadedDataset(x['recordingmbid']), axis=1)\n",
    "    groundtruth_available = groundtruth_raw[groundtruth_available_labels]\n",
    "\n",
    "    groundtruth = groundtruth_available[['recordingmbid', 'genre1']].copy()\n",
    "\n",
    "    def extract_main_genres(record):\n",
    "        return record[~record.str.contains(\"-\", na=True)].tolist()\n",
    "\n",
    "    groundtruth['main_genres'] = groundtruth_available.apply(lambda x: extract_main_genres(x), axis=1)\n",
    "    \n",
    "    return groundtruth\n"
   ]
  }
 ],
 "metadata": {
  "kernelspec": {
   "display_name": "mmsr",
   "language": "python",
   "name": "mmsr"
  },
  "language_info": {
   "codemirror_mode": {
    "name": "ipython",
    "version": 2
   },
   "file_extension": ".py",
   "mimetype": "text/x-python",
   "name": "python",
   "nbconvert_exporter": "python",
   "pygments_lexer": "ipython2",
   "version": "2.7.12+"
  }
 },
 "nbformat": 4,
 "nbformat_minor": 2
}
