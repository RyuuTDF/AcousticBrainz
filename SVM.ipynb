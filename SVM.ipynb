{
 "cells": [
  {
   "cell_type": "code",
   "execution_count": 2,
   "metadata": {
    "collapsed": true
   },
   "outputs": [],
   "source": [
    "from sklearn import svm"
   ]
  },
  {
   "cell_type": "code",
   "execution_count": 3,
   "metadata": {
    "collapsed": true
   },
   "outputs": [],
   "source": [
    "import csv\n",
    "import os, fnmatch\n",
    "import json\n",
    "from pprint import pprint"
   ]
  },
  {
   "cell_type": "code",
   "execution_count": 4,
   "metadata": {
    "collapsed": true
   },
   "outputs": [],
   "source": [
    "def find(name, path):\n",
    "    for root, dirs, files in os.walk(path):\n",
    "        if name in files:\n",
    "            #return os.path.join(root, name)\n",
    "            return \"1\"\n",
    "        else:\n",
    "            return \"0\""
   ]
  },
  {
   "cell_type": "markdown",
   "metadata": {},
   "source": [
    "Function to find Genre from each file"
   ]
  },
  {
   "cell_type": "code",
   "execution_count": 5,
   "metadata": {
    "collapsed": true
   },
   "outputs": [],
   "source": [
    "def findGenre(name, path):\n",
    "    with open(path, 'rt') as f:\n",
    "        reader = csv.reader(f, delimiter='\\t')\n",
    "        for row in reader:\n",
    "            if name == row[0]:\n",
    "                print row[2]\n",
    "                return [row[2], row[3], row[4], row[5], row[6], row[7], row[8], row[9], row[10]]"
   ]
  },
  {
   "cell_type": "markdown",
   "metadata": {},
   "source": [
    "Generate new json file only with 5 features and genre & all sub genres label"
   ]
  },
  {
   "cell_type": "code",
   "execution_count": 6,
   "metadata": {},
   "outputs": [
    {
     "name": "stdout",
     "output_type": "stream",
     "text": [
      "00000baf-9215-483a-8900-93756eaf1cfc.json\n",
      "00000baf-9215-483a-8900-93756eaf1cfc\n",
      "rock/pop\n",
      "[-612.303894043, 85.3997802734, 21.7601604462, 51.763507843, 9.76949977875, 11.7746009827, 11.0798845291, 11.7886610031, 13.9812507629, 3.2127840519, 0.24224846065, 0.220183476806, 0.817614793777]\n",
      "{\"subgenre_8\": \"\", \"subgenre_1\": \"rock/pop---folkmetal\", \"subgenre_2\": \"rock/pop---metal\", \"subgenre_3\": \"\", \"subgenre_4\": \"\", \"subgenre_5\": \"\", \"subgenre_6\": \"\", \"subgenre_7\": \"\", \"average_loudness\": 0.955146670341, \"genre\": \"rock/pop\", \"mfcc\": [-612.303894043, 85.3997802734, 21.7601604462, 51.763507843, 9.76949977875, 11.7746009827, 11.0798845291, 11.7886610031, 13.9812507629, 3.2127840519, 0.24224846065, 0.220183476806, 0.817614793777], \"spectral_energy\": 0.0571050234139, \"spectral_centroid\": 1927.85839844, \"pitch_salience\": 0.452725291252}\n",
      "0000167c-95f5-48eb-b15f-04790e09a765.json\n",
      "0000167c-95f5-48eb-b15f-04790e09a765\n",
      "electronic\n",
      "[-671.900146484, 139.346740723, 37.4273109436, 17.7827262878, 0.880893528461, 3.25520062447, 1.97108602524, 5.67758512497, 4.44287633896, 3.79205393791, 0.236616492271, -0.881409168243, 2.2465531826]\n",
      "{\"subgenre_8\": \"\", \"subgenre_1\": \"electronic---electropop\", \"subgenre_2\": \"electronic---elektro\", \"subgenre_3\": \"\", \"subgenre_4\": \"\", \"subgenre_5\": \"\", \"subgenre_6\": \"\", \"subgenre_7\": \"\", \"average_loudness\": 0.931662321091, \"genre\": \"electronic\", \"mfcc\": [-671.900146484, 139.346740723, 37.4273109436, 17.7827262878, 0.880893528461, 3.25520062447, 1.97108602524, 5.67758512497, 4.44287633896, 3.79205393791, 0.236616492271, -0.881409168243, 2.2465531826], \"spectral_energy\": 0.0497425198555, \"spectral_centroid\": 908.891296387, \"pitch_salience\": 0.513939321041}\n",
      "00002517-4dfe-4e3c-b648-20f06fca2b69.json\n",
      "00002517-4dfe-4e3c-b648-20f06fca2b69\n",
      "[-626.631774902, 77.503326416, 4.36329698563, 29.7080574036, 26.1522502899, 24.2999172211, 9.633477211, 11.927687645, 8.89184474945, -4.80775642395, -3.40012192726, 2.13522577286, -7.86047792435]\n",
      "{\"subgenre_8\": \"\", \"subgenre_1\": \"\", \"subgenre_2\": \"\", \"subgenre_3\": \"\", \"subgenre_4\": \"\", \"subgenre_5\": \"\", \"subgenre_6\": \"\", \"subgenre_7\": \"\", \"average_loudness\": 0.953525424004, \"genre\": \"\", \"mfcc\": [-626.631774902, 77.503326416, 4.36329698563, 29.7080574036, 26.1522502899, 24.2999172211, 9.633477211, 11.927687645, 8.89184474945, -4.80775642395, -3.40012192726, 2.13522577286, -7.86047792435], \"spectral_energy\": 0.0437871105969, \"spectral_centroid\": 1784.14550781, \"pitch_salience\": 0.522269785404}\n",
      "00002fc9-7283-44dd-bf6f-94c9492d0998.json\n",
      "00002fc9-7283-44dd-bf6f-94c9492d0998\n",
      "hiphop\n",
      "[-665.502868652, 131.819763184, 24.0887947083, 23.5244121552, -1.56308352947, -6.13186216354, -9.38229942322, 1.727643013, 2.2984764576, 1.58862686157, -0.127771452069, 2.09757804871, 0.502215921879]\n",
      "{\"subgenre_8\": \"\", \"subgenre_1\": \"hiphop---alternativehiphop\", \"subgenre_2\": \"hiphop---raphiphop\", \"subgenre_3\": \"\", \"subgenre_4\": \"\", \"subgenre_5\": \"\", \"subgenre_6\": \"\", \"subgenre_7\": \"\", \"average_loudness\": 0.949175059795, \"genre\": \"hiphop\", \"mfcc\": [-665.502868652, 131.819763184, 24.0887947083, 23.5244121552, -1.56308352947, -6.13186216354, -9.38229942322, 1.727643013, 2.2984764576, 1.58862686157, -0.127771452069, 2.09757804871, 0.502215921879], \"spectral_energy\": 0.0472454503179, \"spectral_centroid\": 972.72052002, \"pitch_salience\": 0.550447285175}\n",
      "00004ad5-6ffe-4bcb-92d0-7d0947355f9d.json\n",
      "00004ad5-6ffe-4bcb-92d0-7d0947355f9d\n",
      "classical\n",
      "[-855.472473145, 211.585281372, -6.80601215363, -6.10656070709, -3.63911294937, -27.2545547485, -17.6742019653, -17.1051807404, -15.0675849915, -8.63341236115, -5.11935949326, -1.09595620632, -4.76018238068]\n",
      "{\"subgenre_8\": \"\", \"subgenre_1\": \"classical---piano\", \"subgenre_2\": \"classical---romantic\", \"subgenre_3\": \"\", \"subgenre_4\": \"\", \"subgenre_5\": \"\", \"subgenre_6\": \"\", \"subgenre_7\": \"\", \"average_loudness\": 0.351135611534, \"genre\": \"classical\", \"mfcc\": [-855.472473145, 211.585281372, -6.80601215363, -6.10656070709, -3.63911294937, -27.2545547485, -17.6742019653, -17.1051807404, -15.0675849915, -8.63341236115, -5.11935949326, -1.09595620632, -4.76018238068], \"spectral_energy\": 0.0154549628496, \"spectral_centroid\": 533.97277832, \"pitch_salience\": 0.483546823263}\n",
      "00005a44-2152-4971-80c1-c217563845eb.json\n",
      "00005a44-2152-4971-80c1-c217563845eb\n",
      "rock/pop\n",
      "[-653.310913086, 134.528213501, -19.3244380951, 25.4357814789, -5.75599622726, -1.12389481068, 1.33997941017, -1.57724559307, -2.65283679962, 1.62919616699, -7.78415775299, 1.30315387249, -5.30825042725]\n",
      "{\"subgenre_8\": \"\", \"subgenre_1\": \"rock/pop---heavymetal\", \"subgenre_2\": \"rock/pop---metal\", \"subgenre_3\": \"\", \"subgenre_4\": \"\", \"subgenre_5\": \"\", \"subgenre_6\": \"\", \"subgenre_7\": \"\", \"average_loudness\": 0.902540564537, \"genre\": \"rock/pop\", \"mfcc\": [-653.310913086, 134.528213501, -19.3244380951, 25.4357814789, -5.75599622726, -1.12389481068, 1.33997941017, -1.57724559307, -2.65283679962, 1.62919616699, -7.78415775299, 1.30315387249, -5.30825042725], \"spectral_energy\": 0.024035429582, \"spectral_centroid\": 1454.49377441, \"pitch_salience\": 0.551242351532}\n",
      "00005ac4-210c-4914-89ba-6279ea881809.json\n",
      "00005ac4-210c-4914-89ba-6279ea881809\n",
      "rock/pop\n",
      "[-667.842895508, 191.390213013, -21.6760311127, 29.4329872131, 13.8652200699, 25.1206741333, 3.85684895515, 4.78984832764, 1.62196695805, -1.34121453762, 4.75416946411, 4.25486421585, 4.04101610184]\n",
      "{\"subgenre_8\": \"\", \"subgenre_1\": \"rock/pop---classicrock\", \"subgenre_2\": \"rock/pop---psychedelicrock\", \"subgenre_3\": \"\", \"subgenre_4\": \"\", \"subgenre_5\": \"\", \"subgenre_6\": \"\", \"subgenre_7\": \"\", \"average_loudness\": 0.77849727869, \"genre\": \"rock/pop\", \"mfcc\": [-667.842895508, 191.390213013, -21.6760311127, 29.4329872131, 13.8652200699, 25.1206741333, 3.85684895515, 4.78984832764, 1.62196695805, -1.34121453762, 4.75416946411, 4.25486421585, 4.04101610184], \"spectral_energy\": 0.0682846754789, \"spectral_centroid\": 779.796875, \"pitch_salience\": 0.513085663319}\n",
      "0000732b-9c3b-4808-8306-b2c970887465.json\n",
      "0000732b-9c3b-4808-8306-b2c970887465\n",
      "rock/pop\n",
      "[-593.575683594, 102.697052002, 0.962411284447, 27.908864975, 9.16088008881, 6.11869668961, -1.21202921867, 13.8884744644, 0.0347217433155, -2.49998569489, 1.48089849949, -1.64777493477, -3.90610098839]\n",
      "{\"subgenre_8\": \"\", \"subgenre_1\": \"rock/pop---gothicmetal\", \"subgenre_2\": \"rock/pop---metal\", \"subgenre_3\": \"\", \"subgenre_4\": \"\", \"subgenre_5\": \"\", \"subgenre_6\": \"\", \"subgenre_7\": \"\", \"average_loudness\": 0.97060996294, \"genre\": \"rock/pop\", \"mfcc\": [-593.575683594, 102.697052002, 0.962411284447, 27.908864975, 9.16088008881, 6.11869668961, -1.21202921867, 13.8884744644, 0.0347217433155, -2.49998569489, 1.48089849949, -1.64777493477, -3.90610098839], \"spectral_energy\": 0.0417603850365, \"spectral_centroid\": 1589.30895996, \"pitch_salience\": 0.551915109158}\n",
      "0000784b-1f2d-4161-983f-d69805d3b7de.json\n",
      "0000784b-1f2d-4161-983f-d69805d3b7de\n"
     ]
    },
    {
     "ename": "KeyboardInterrupt",
     "evalue": "",
     "output_type": "error",
     "traceback": [
      "\u001b[0;31m---------------------------------------------------------------------------\u001b[0m",
      "\u001b[0;31mKeyboardInterrupt\u001b[0m                         Traceback (most recent call last)",
      "\u001b[0;32m<ipython-input-6-4098c25f0517>\u001b[0m in \u001b[0;36m<module>\u001b[0;34m()\u001b[0m\n\u001b[1;32m      8\u001b[0m         \u001b[0mgenre_music\u001b[0m \u001b[0;34m=\u001b[0m \u001b[0mfindGenre\u001b[0m\u001b[0;34m(\u001b[0m\u001b[0mfilename_only\u001b[0m\u001b[0;34m,\u001b[0m\u001b[0;34m'/Users/Kharisnawan/OneDrive/Macbook White New/MMSR/project/training/acousticbrainz-mediaeval2017-tagtraum-train.tsv'\u001b[0m\u001b[0;34m)\u001b[0m\u001b[0;34m\u001b[0m\u001b[0m\n\u001b[1;32m      9\u001b[0m         \u001b[0;32mif\u001b[0m \u001b[0mgenre_music\u001b[0m \u001b[0;32mis\u001b[0m \u001b[0mNone\u001b[0m\u001b[0;34m:\u001b[0m\u001b[0;34m\u001b[0m\u001b[0m\n\u001b[0;32m---> 10\u001b[0;31m             \u001b[0mgenre_music\u001b[0m \u001b[0;34m=\u001b[0m \u001b[0mfindGenre\u001b[0m\u001b[0;34m(\u001b[0m\u001b[0mfilename_only\u001b[0m\u001b[0;34m,\u001b[0m\u001b[0;34m'/Users/Kharisnawan/OneDrive/Macbook White New/MMSR/project/training/acousticbrainz-mediaeval2017-discogs-train.tsv'\u001b[0m\u001b[0;34m)\u001b[0m\u001b[0;34m\u001b[0m\u001b[0m\n\u001b[0m\u001b[1;32m     11\u001b[0m             \u001b[0;32mif\u001b[0m \u001b[0mgenre_music\u001b[0m \u001b[0;32mis\u001b[0m \u001b[0mNone\u001b[0m\u001b[0;34m:\u001b[0m\u001b[0;34m\u001b[0m\u001b[0m\n\u001b[1;32m     12\u001b[0m                 \u001b[0mgenre_music\u001b[0m \u001b[0;34m=\u001b[0m \u001b[0mfindGenre\u001b[0m\u001b[0;34m(\u001b[0m\u001b[0mfilename_only\u001b[0m\u001b[0;34m,\u001b[0m\u001b[0;34m'/Users/Kharisnawan/OneDrive/Macbook White New/MMSR/project/training/acousticbrainz-mediaeval2017-lastfm-train.tsv'\u001b[0m\u001b[0;34m)\u001b[0m\u001b[0;34m\u001b[0m\u001b[0m\n",
      "\u001b[0;32m<ipython-input-5-d8f2e9a46ed7>\u001b[0m in \u001b[0;36mfindGenre\u001b[0;34m(name, path)\u001b[0m\n\u001b[1;32m      2\u001b[0m     \u001b[0;32mwith\u001b[0m \u001b[0mopen\u001b[0m\u001b[0;34m(\u001b[0m\u001b[0mpath\u001b[0m\u001b[0;34m,\u001b[0m \u001b[0;34m'rt'\u001b[0m\u001b[0;34m)\u001b[0m \u001b[0;32mas\u001b[0m \u001b[0mf\u001b[0m\u001b[0;34m:\u001b[0m\u001b[0;34m\u001b[0m\u001b[0m\n\u001b[1;32m      3\u001b[0m         \u001b[0mreader\u001b[0m \u001b[0;34m=\u001b[0m \u001b[0mcsv\u001b[0m\u001b[0;34m.\u001b[0m\u001b[0mreader\u001b[0m\u001b[0;34m(\u001b[0m\u001b[0mf\u001b[0m\u001b[0;34m,\u001b[0m \u001b[0mdelimiter\u001b[0m\u001b[0;34m=\u001b[0m\u001b[0;34m'\\t'\u001b[0m\u001b[0;34m)\u001b[0m\u001b[0;34m\u001b[0m\u001b[0m\n\u001b[0;32m----> 4\u001b[0;31m         \u001b[0;32mfor\u001b[0m \u001b[0mrow\u001b[0m \u001b[0;32min\u001b[0m \u001b[0mreader\u001b[0m\u001b[0;34m:\u001b[0m\u001b[0;34m\u001b[0m\u001b[0m\n\u001b[0m\u001b[1;32m      5\u001b[0m             \u001b[0;32mif\u001b[0m \u001b[0mname\u001b[0m \u001b[0;34m==\u001b[0m \u001b[0mrow\u001b[0m\u001b[0;34m[\u001b[0m\u001b[0;36m0\u001b[0m\u001b[0;34m]\u001b[0m\u001b[0;34m:\u001b[0m\u001b[0;34m\u001b[0m\u001b[0m\n\u001b[1;32m      6\u001b[0m                 \u001b[0;32mprint\u001b[0m \u001b[0mrow\u001b[0m\u001b[0;34m[\u001b[0m\u001b[0;36m2\u001b[0m\u001b[0;34m]\u001b[0m\u001b[0;34m\u001b[0m\u001b[0m\n",
      "\u001b[0;31mKeyboardInterrupt\u001b[0m: "
     ]
    }
   ],
   "source": [
    "for file in os.listdir(\"/Users/Kharisnawan/OneDrive/Macbook White New/MMSR/project/acousticbrainz-mediaeval-train/00/\"):\n",
    "    if file.endswith(\".json\"):\n",
    "        filename = (os.path.join(\"/Users/Kharisnawan/OneDrive/Macbook White New/MMSR/project/acousticbrainz-mediaeval-train/00/\", file))\n",
    "        print file\n",
    "\n",
    "        filename_only = file[:-5]\n",
    "        print filename_only\n",
    "        genre_music = findGenre(filename_only,'/Users/Kharisnawan/OneDrive/Macbook White New/MMSR/project/training/acousticbrainz-mediaeval2017-tagtraum-train.tsv')\n",
    "        if genre_music is None:\n",
    "            genre_music = findGenre(filename_only,'/Users/Kharisnawan/OneDrive/Macbook White New/MMSR/project/training/acousticbrainz-mediaeval2017-discogs-train.tsv')\n",
    "            if genre_music is None:\n",
    "                genre_music = findGenre(filename_only,'/Users/Kharisnawan/OneDrive/Macbook White New/MMSR/project/training/acousticbrainz-mediaeval2017-lastfm-train.tsv')    \n",
    "                if genre_music is None:\n",
    "                    genre_music = [\"\", \"\",\"\",\"\",\"\",\"\",\"\",\"\",\"\"]\n",
    "\n",
    "        with open(filename) as data_file:    \n",
    "            data = json.load(data_file)\n",
    "            average_loudness = data[\"lowlevel\"][\"average_loudness\"]\n",
    "            spectral_energy = data[\"lowlevel\"][\"spectral_energy\"][\"mean\"]\n",
    "            spectral_centroid = data[\"lowlevel\"][\"spectral_centroid\"][\"mean\"]\n",
    "            pitch_salience = data[\"lowlevel\"][\"pitch_salience\"][\"mean\"]\n",
    "            mfcc = data[\"lowlevel\"][\"mfcc\"][\"mean\"]\n",
    "            print mfcc\n",
    "\n",
    "            new_json_file = {\n",
    "                \"average_loudness\" : average_loudness,\n",
    "                \"spectral_energy\" : spectral_energy,\n",
    "                \"spectral_centroid\" : spectral_centroid,\n",
    "                \"pitch_salience\" : pitch_salience,\n",
    "                \"mfcc\" : mfcc,\n",
    "                \"genre\" : genre_music[0],\n",
    "                \"subgenre_1\" : genre_music[1],\n",
    "                \"subgenre_2\" : genre_music[2],\n",
    "                \"subgenre_3\" : genre_music[3],\n",
    "                \"subgenre_4\" : genre_music[4],\n",
    "                \"subgenre_5\" : genre_music[5],\n",
    "                \"subgenre_6\" : genre_music[6],\n",
    "                \"subgenre_7\" : genre_music[7],\n",
    "                \"subgenre_8\" : genre_music[8]\n",
    "            }\n",
    "            json_dump=json.dumps(new_json_file)\n",
    "            print json_dump\n",
    "\n",
    "            new_json_path = '/Users/Kharisnawan/OneDrive/Macbook White New/MMSR/project/00_NEW/'+file\n",
    "\n",
    "            with open(new_json_path, 'w') as outfile:\n",
    "                outfile.write(json_dump)"
   ]
  }
 ],
 "metadata": {
  "kernelspec": {
   "display_name": "Python 2",
   "language": "python",
   "name": "python2"
  },
  "language_info": {
   "codemirror_mode": {
    "name": "ipython",
    "version": 2
   },
   "file_extension": ".py",
   "mimetype": "text/x-python",
   "name": "python",
   "nbconvert_exporter": "python",
   "pygments_lexer": "ipython2",
   "version": "2.7.13"
  }
 },
 "nbformat": 4,
 "nbformat_minor": 2
}
