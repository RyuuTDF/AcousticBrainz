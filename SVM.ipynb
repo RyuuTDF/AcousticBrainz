{
 "cells": [
  {
   "cell_type": "markdown",
   "metadata": {
    "deletable": true,
    "editable": true
   },
   "source": [
    "# AcousticBrainz Genre Task 2017: Content-based music genre recognition from multiple sources"
   ]
  },
  {
   "cell_type": "code",
   "execution_count": null,
   "metadata": {
    "deletable": true,
    "editable": true
   },
   "outputs": [],
   "source": [
    "# Nice graphs for high dpi screens\n",
    "%config InlineBackend.figure_format = 'retina'"
   ]
  },
  {
   "cell_type": "markdown",
   "metadata": {
    "deletable": true,
    "editable": true
   },
   "source": [
    "## Install and import packages"
   ]
  },
  {
   "cell_type": "code",
   "execution_count": null,
   "metadata": {
    "deletable": true,
    "editable": true
   },
   "outputs": [],
   "source": [
    "!pip install -U scikit-learn[alldeps]\n",
    "!pip install -U python-dotenv\n",
    "!pip install -U pandas\n"
   ]
  },
  {
   "cell_type": "code",
   "execution_count": null,
   "metadata": {
    "deletable": true,
    "editable": true
   },
   "outputs": [],
   "source": [
    "from os import environ\n",
    "from dotenv import load_dotenv, find_dotenv\n",
    "\n",
    "load_dotenv(find_dotenv())\n",
    "\n",
    "settings = {\n",
    "    \"path\": environ.get(\"PATH_TO_DATASET\"),\n",
    "    \"loaded_data\": environ.get('LOADED_TRAINING_DATA'),\n",
    "    \n",
    "    \"very_few\": environ.get('VERY_FEW_RECORDS', False),  # Limit the dataset to very few records, useful during development\n",
    "}"
   ]
  },
  {
   "cell_type": "markdown",
   "metadata": {
    "deletable": true,
    "editable": true
   },
   "source": [
    "You **must** restart the kernel after first instaling or updating packages!"
   ]
  },
  {
   "cell_type": "code",
   "execution_count": null,
   "metadata": {
    "deletable": true,
    "editable": true
   },
   "outputs": [],
   "source": [
    "from sklearn import svm\n",
    "import pandas as pd\n",
    "import json\n"
   ]
  },
  {
   "cell_type": "markdown",
   "metadata": {
    "deletable": true,
    "editable": true
   },
   "source": [
    "## Load groundtruth and filter available records\n",
    "During development it is very likely the notebook is executed with a subset of the training data, because the training data is very large (approx 80 GiB). Therefore it is needed to filter out any records we don't want to use in this notebook."
   ]
  },
  {
   "cell_type": "code",
   "execution_count": null,
   "metadata": {
    "deletable": true,
    "editable": true
   },
   "outputs": [],
   "source": [
    "# Read tsv file into groundtruth and extract only id and main genre from it\n",
    "groundtruth_raw = pd.read_table(settings['path'] + 'groundtruth/acousticbrainz-mediaeval2017-tagtraum-train.tsv')\n",
    "\n",
    "# Define a predicate to determine if the recordmbid is in our dataset\n",
    "def isInLoadedDataset(id):\n",
    "    return id[0] in settings['loaded_data']\n",
    "    \n",
    "# Filter only records with a recordmbid we have in our dataset\n",
    "groundtruth_available_labels = groundtruth_raw.apply(lambda x: isInLoadedDataset(x['recordingmbid']), axis=1)\n",
    "groundtruth_available = groundtruth_raw[groundtruth_available_labels]\n",
    "\n",
    "groundtruth = groundtruth_available[['recordingmbid', 'genre1']].copy()\n",
    "\n",
    "def extract_main_genres(record):\n",
    "    return record[~record.str.contains(\"-\", na=True)].tolist()\n",
    "\n",
    "groundtruth['main_genres'] = groundtruth_available.apply(lambda x: extract_main_genres(x), axis=1)\n",
    "\n",
    "print 'Groundtruth total: %d' % len(groundtruth_raw)\n",
    "print 'Groundtruth available and loaded: %d' % len(groundtruth)\n",
    "print 'Found {} unique genres.'.format(len(groundtruth['genre1'].unique()))\n"
   ]
  },
  {
   "cell_type": "code",
   "execution_count": null,
   "metadata": {
    "deletable": true,
    "editable": true
   },
   "outputs": [],
   "source": [
    "# Temporary remove rock/pop\n",
    "not_rock = groundtruth[groundtruth['genre1'] != 'rock/pop']\n",
    "print 'Records that are rock/pop: %d' % len(not_rock)\n",
    "print 'Records that aren\\'t rock/pop: %d' % len(groundtruth[groundtruth['genre1'] == 'rock/pop'])\n",
    "\n",
    "groundtruth = not_rock"
   ]
  },
  {
   "cell_type": "code",
   "execution_count": null,
   "metadata": {
    "deletable": true,
    "editable": true
   },
   "outputs": [],
   "source": [
    "# Maybe during development you want a really really small dataset ?\n",
    "if settings['very_few']:\n",
    "    groundtruth = groundtruth.head(10000)\n"
   ]
  },
  {
   "cell_type": "code",
   "execution_count": null,
   "metadata": {
    "deletable": true,
    "editable": true
   },
   "outputs": [],
   "source": [
    "a = groundtruth.groupby(['genre1']).count()\n",
    "print a\n",
    "import matplotlib.pyplot as plt\n",
    "\n",
    "a.plot.bar()\n",
    "plt.show()"
   ]
  },
  {
   "cell_type": "markdown",
   "metadata": {
    "deletable": true,
    "editable": true
   },
   "source": [
    "## Utility functions"
   ]
  },
  {
   "cell_type": "code",
   "execution_count": null,
   "metadata": {
    "deletable": true,
    "editable": true
   },
   "outputs": [],
   "source": [
    "def loadFeatures(recordingmbid):\n",
    "    '''Load raw feature file of a record into an object'''\n",
    "    feature_file_path = '{basepath}acousticbrainz-mediaeval-train/{id_prefix}/{id}.json'.format(\n",
    "        basepath = settings['path'], id_prefix=recordingmbid[0:2], id = recordingmbid);\n",
    "    \n",
    "    with open(feature_file_path) as feature_file:    \n",
    "        data = json.load(feature_file)\n",
    "    \n",
    "    return data\n",
    "\n",
    "def pettyPrintJSON(object_to_print):\n",
    "    print(json.dumps(object_to_print, sort_keys=True, indent=4))\n",
    "    \n",
    "\n",
    "def getOnlyUsedFeatures(recordingmbid):\n",
    "    '''Extract used functions from the raw feature file'''\n",
    "    all_features = loadFeatures(recordingmbid)\n",
    "    \n",
    "    used_features = [\n",
    "        'lowlevel.mfcc.mean'\n",
    "    ]\n",
    "    \n",
    "    result_features = []\n",
    "    \n",
    "    for feature_name in used_features:\n",
    "        reduced_features = all_features\n",
    "\n",
    "        for k in feature_name.split('.'):\n",
    "            reduced_features = reduced_features[k]\n",
    "        \n",
    "        result_features.extend(reduced_features)\n",
    "        \n",
    "    return pd.Series(result_features)\n",
    "    \n",
    "\n",
    "training_data = groundtruth['recordingmbid'].apply(getOnlyUsedFeatures)\n",
    "\n",
    "print training_data.head()"
   ]
  },
  {
   "cell_type": "markdown",
   "metadata": {
    "deletable": true,
    "editable": true
   },
   "source": [
    "## Train SVM"
   ]
  },
  {
   "cell_type": "code",
   "execution_count": null,
   "metadata": {
    "deletable": true,
    "editable": true
   },
   "outputs": [],
   "source": [
    "\n",
    "\n",
    "clf = svm.SVC()\n",
    "clf.fit(training_data[0:-1000], groundtruth['genre1'][0:-1000])  "
   ]
  },
  {
   "cell_type": "code",
   "execution_count": null,
   "metadata": {
    "deletable": true,
    "editable": true
   },
   "outputs": [],
   "source": [
    "\n",
    "test_data = training_data[-1000:]\n",
    "test = pd.DataFrame()\n",
    "test['truth'] = groundtruth['genre1'][-1000:]\n",
    "test['prediction'] = clf.predict(test_data)\n",
    "print test"
   ]
  }
 ],
 "metadata": {
  "kernelspec": {
   "display_name": "mmsr",
   "language": "python",
   "name": "mmsr"
  },
  "language_info": {
   "codemirror_mode": {
    "name": "ipython",
    "version": 2
   },
   "file_extension": ".py",
   "mimetype": "text/x-python",
   "name": "python",
   "nbconvert_exporter": "python",
   "pygments_lexer": "ipython2",
   "version": "2.7.12+"
  }
 },
 "nbformat": 4,
 "nbformat_minor": 2
}
