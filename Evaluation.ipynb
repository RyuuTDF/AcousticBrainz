{
 "cells": [
  {
   "cell_type": "markdown",
   "metadata": {},
   "source": [
    "# Code for evaluation"
   ]
  },
  {
   "cell_type": "markdown",
   "metadata": {},
   "source": [
    "### Input:\n",
    "\n",
    "**Name:** groundtruth  \n",
    "**Type:** Dataframe  \n",
    "**Column:** 'main_genres'  \n",
    "**Datatype:**: List\n",
    "\n",
    "**Name:** predictions  \n",
    "**Type:** Series  \n",
    "**Datatype:**: List"
   ]
  },
  {
   "cell_type": "code",
   "execution_count": null,
   "metadata": {},
   "outputs": [],
   "source": [
    "from os import path\n",
    "import pandas as pd\n",
    "import numpy as np"
   ]
  },
  {
   "cell_type": "code",
   "execution_count": null,
   "metadata": {},
   "outputs": [],
   "source": [
    "def checkIfMember(row):\n",
    "    return row['p'] in row['t']\n",
    "\n",
    "# t can be:\n",
    "#    groundtruth['genre1']\n",
    "#    groundtruth['main_genres']\n",
    "def comparePredictions(predictions, groundtruth):\n",
    "    compare = pd.DataFrame({\"p\":predictions, \"t\": groundtruth})\n",
    "    compare['c'] = compare.apply(checkIfMember, axis = 1)\n",
    "    \n",
    "    #Test Code\n",
    "#     print sum(compare['c'])\n",
    "#     print compare.head()\n",
    "    \n",
    "    return compare\n"
   ]
  },
  {
   "cell_type": "code",
   "execution_count": null,
   "metadata": {},
   "outputs": [],
   "source": [
    "def evaluatePredictions(compare):\n",
    "    #Calculate totals\n",
    "    length = compare['c'].shape[0]\n",
    "    correct = sum(compare['c'])\n",
    "\n",
    "    totals = pd.DataFrame(columns=['correct', 'total'])\n",
    "    totals.loc['total'] = (correct, length)\n",
    "    totals['accuracy'] = np.around((totals['correct'] / totals['total'] *100.00).astype(np.double),2)\n",
    "    \n",
    "\n",
    "    \n",
    "    #Calculate genre results\n",
    "    results = pd.DataFrame(columns=['total', 'classified', 'other', 'wrong'])\n",
    "\n",
    "    for i, row in compare.iterrows():\n",
    "        prediction = row['p']\n",
    "        \n",
    "        if prediction not in results.index:\n",
    "                results.loc[prediction] = [0, 0, 0, 0]\n",
    "        \n",
    "        if prediction not in row['t']:\n",
    "                results.loc[prediction]['wrong'] += 1\n",
    "     \n",
    "        for genre in row['t']:\n",
    "            if genre not in results.index:\n",
    "                results.loc[genre] = [0, 0, 0, 0]\n",
    "\n",
    "            #Calculate total\n",
    "            results.loc[genre]['total'] += 1\n",
    "\n",
    "            #Calculate classified\n",
    "            if row['c'] & (genre == row['p']):\n",
    "                results.loc[genre]['classified'] += 1\n",
    "\n",
    "            #Calculate other\n",
    "            if row['c'] & (genre != row['p']):\n",
    "                results.loc[genre]['other'] += 1\n",
    "\n",
    "\n",
    "    results['diff'] = results['total'] - results['classified'] - results['other']\n",
    "    results['classperc'] = np.around((results['classified'] / results['total'] *100.00).astype(np.double),2)\n",
    "    results['otherperc'] = np.around((results['other'] / results['total'] *100.00).astype(np.double),2)\n",
    "    results['wrongperc'] = np.around((100 -  results['classperc'] - results['otherperc']).astype(np.double),2)\n",
    "\n",
    "    results = results.sort_values(ascending=False, by= 'total')\n",
    "    \n",
    "    display(totals)\n",
    "    display(results)\n",
    "    \n",
    "    return (totals, results)"
   ]
  },
  {
   "cell_type": "code",
   "execution_count": null,
   "metadata": {},
   "outputs": [],
   "source": [
    "#Do the evaluation\n",
    "compare = comparePredictions(predictions, groundtruth)\n",
    "results = evaluatePredictions(compare)\n"
   ]
  },
  {
   "cell_type": "code",
   "execution_count": null,
   "metadata": {},
   "outputs": [],
   "source": []
  }
 ],
 "metadata": {
  "kernelspec": {
   "display_name": "Python 2",
   "language": "python",
   "name": "python2"
  },
  "language_info": {
   "codemirror_mode": {
    "name": "ipython",
    "version": 2
   },
   "file_extension": ".py",
   "mimetype": "text/x-python",
   "name": "python",
   "nbconvert_exporter": "python",
   "pygments_lexer": "ipython2",
   "version": "2.7.12"
  }
 },
 "nbformat": 4,
 "nbformat_minor": 2
}
