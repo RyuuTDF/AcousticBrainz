{
 "cells": [
  {
   "cell_type": "markdown",
   "metadata": {},
   "source": [
    "# Code for evaluation"
   ]
  },
  {
   "cell_type": "markdown",
   "metadata": {},
   "source": [
    "### Input:\n",
    "\n",
    "**Name:** groundtruth  \n",
    "**Type:** Dataframe  \n",
    "**Column:** 'main_genres'  \n",
    "**Datatype:**: List\n",
    "\n",
    "**Name:** predictions  \n",
    "**Type:** Series  \n",
    "**Datatype:**: List"
   ]
  },
  {
   "cell_type": "code",
   "execution_count": null,
   "metadata": {},
   "outputs": [],
   "source": [
    "from os import path\n",
    "import pandas as pd\n",
    "import numpy as np"
   ]
  },
  {
   "cell_type": "code",
   "execution_count": null,
   "metadata": {},
   "outputs": [],
   "source": [
    "def compareValues(row):\n",
    "    return set(row['p']) <= set(row['t'])\n",
    "\n",
    "def compareEqual(row):\n",
    "    return set(row['p']) == set(row['t'])\n",
    "\n",
    "def compareGroundTruth(compare):\n",
    "    compare['c'] = compare.apply(compareValues, axis = 1)\n",
    "    \n",
    "    #Test Code\n",
    "#     compare['e'] = compare.apply(compareEqual, axis = 1)\n",
    "#     print sum(compare['c'])\n",
    "#     print sum(compare['e'])\n",
    "#     print compare.head()\n",
    "    \n",
    "    return compare\n"
   ]
  },
  {
   "cell_type": "markdown",
   "metadata": {},
   "source": [
    "Total: Correct means at least 1 of the "
   ]
  },
  {
   "cell_type": "code",
   "execution_count": null,
   "metadata": {},
   "outputs": [],
   "source": [
    "def evaluatePredictions(compare):\n",
    "    #Calculate totals\n",
    "    length = compare['c'].shape[0]\n",
    "    correct = sum(compare['c'])\n",
    "\n",
    "    totals = pd.DataFrame(columns=['correct', 'total'])\n",
    "    totals.loc['total'] = (correct, length)\n",
    "    totals['accuracy'] = np.around((totals['correct'] / totals['total'] *100.00).astype(np.double),2)\n",
    "    \n",
    "\n",
    "    \n",
    "    #Calculate genre results\n",
    "    results = pd.DataFrame(columns=['correct', 'total', 'missed', 'wrong'])\n",
    "\n",
    "    for i, row in compare.iterrows():\n",
    "        for genre in row['t']:\n",
    "            if genre not in results.index:\n",
    "                results.loc[genre] = [0, 0, 0, 0]\n",
    "            \n",
    "\n",
    "            #Calculate total\n",
    "            results.loc[genre]['total'] += 1\n",
    "                \n",
    "            #Calculate correct\n",
    "            if row['c'] & (genre in row['p']):\n",
    "                results.loc[genre]['correct'] += 1\n",
    "            \n",
    "            #Calculate missed\n",
    "            if genre not in row['p']:\n",
    "                results.loc[genre]['missed'] += 1\n",
    "                \n",
    "        for genre in row['p']:\n",
    "            if genre not in results.index:\n",
    "                results.loc[genre] = [0, 0, 0, 0]\n",
    "           \n",
    "            #Calculate wrong\n",
    "            if genre not in row['t']:\n",
    "                results.loc[genre]['wrong'] += 1\n",
    "\n",
    "    results['accuracy'] = np.around((results['correct'] / results['total'] *100.00).astype(np.double),2)\n",
    "    results['missedperc'] = np.around((results['missed'] / results['total'] *100.00).astype(np.double),2)\n",
    "\n",
    "    results = results.sort_values(ascending=False, by= 'total')\n",
    "    \n",
    "    display(totals)\n",
    "    display(results)\n",
    "    \n",
    "    return (totals, results)"
   ]
  },
  {
   "cell_type": "code",
   "execution_count": null,
   "metadata": {},
   "outputs": [],
   "source": [
    "%%time\n",
    "\n",
    "# t can be:\n",
    "#    groundtruth['genre1']\n",
    "#    groundtruth['main_genres']\n",
    "compare = pd.DataFrame({\"p\":predictions, \"t\":groundtruth['main_genres']})\n",
    "\n",
    "compare = compareGroundTruth(compare)\n",
    "results = evaluatePredictions(compare)\n"
   ]
  },
  {
   "cell_type": "code",
   "execution_count": null,
   "metadata": {},
   "outputs": [],
   "source": []
  }
 ],
 "metadata": {
  "kernelspec": {
   "display_name": "Python 2",
   "language": "python",
   "name": "python2"
  },
  "language_info": {
   "codemirror_mode": {
    "name": "ipython",
    "version": 2
   },
   "file_extension": ".py",
   "mimetype": "text/x-python",
   "name": "python",
   "nbconvert_exporter": "python",
   "pygments_lexer": "ipython2",
   "version": "2.7.12"
  }
 },
 "nbformat": 4,
 "nbformat_minor": 2
}
