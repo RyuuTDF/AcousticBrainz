{
 "cells": [
  {
   "cell_type": "code",
   "execution_count": null,
   "metadata": {},
   "outputs": [],
   "source": [
    "from os import environ\n",
    "from os import path\n",
    "from sklearn import svm\n",
    "from dotenv import load_dotenv, find_dotenv\n",
    "\n",
    "import pandas as pd\n",
    "import numpy as np\n",
    "import json\n",
    "\n",
    "load_dotenv(find_dotenv())\n",
    "\n",
    "settings = {\n",
    "    \"path\": environ.get(\"PATH_TO_DATASET\"),\n",
    "    \"loaded_data\": environ.get('LOADED_TRAINING_DATA'),\n",
    "    \n",
    "    \"very_few\": environ.get('VERY_FEW_RECORDS', False),  # Limit the dataset to very few records, useful during development\n",
    "}"
   ]
  },
  {
   "cell_type": "code",
   "execution_count": null,
   "metadata": {},
   "outputs": [],
   "source": [
    "%run Utilities.ipynb\n",
    "\n",
    "# Read tsv file into groundtruth and extract only id and main genre from it\n",
    "groundtruth = load_groundtruth(settings['path'] + 'groundtruth/acousticbrainz-mediaeval2017-tagtraum-train.tsv')\n",
    "\n",
    "print 'Groundtruth size: %d' % len(groundtruth)\n",
    "print 'Found {} uniquse genres.'.format(len(groundtruth['genre1'].unique()))\n",
    "\n",
    "# Maybe during development you want a really really small dataset ?\n",
    "if settings['very_few']:\n",
    "    print 'Limit groundtruth to 10000 elements'\n",
    "    groundtruth = groundtruth.head(10000)\n"
   ]
  },
  {
   "cell_type": "code",
   "execution_count": null,
   "metadata": {},
   "outputs": [],
   "source": [
    "def compareGroundTruth(prediction, truth):\n",
    "    #Code for comparing genre1\n",
    "    compare = prediction == truth\n",
    "    return compare\n",
    "\n",
    "    #Code for comparing multi-genre"
   ]
  },
  {
   "cell_type": "code",
   "execution_count": null,
   "metadata": {},
   "outputs": [],
   "source": [
    "def evaluatePredictions(comparison, groundtruth):\n",
    "    #Code for comparing genre1\n",
    "    length = comparison.shape[0]\n",
    "    correct = sum(comparison)\n",
    "    \n",
    "    genrelengths = groundtruth.value_counts()\n",
    "    genrecounter = genrelengths.copy()\n",
    "    genrecounter[:] = 0\n",
    "\n",
    "    for i, value in groundtruth.iteritems():\n",
    "        if comparison[i]:\n",
    "            genrecounter[value] += 1\n",
    "    \n",
    "    evaluation = pd.DataFrame({'correct' : genrecounter, 'total' : genrelengths})\n",
    "    evaluation.loc['total'] = [correct, length]\n",
    "    evaluation['accuracy'] = (evaluation['correct'] / evaluation['total'] * 100.0).round(2)\n",
    "    \n",
    "    display(evaluation)\n",
    "    \n",
    "    return evaluation\n",
    "\n",
    "    #Code for comparing multi-genre\n",
    "    "
   ]
  },
  {
   "cell_type": "code",
   "execution_count": null,
   "metadata": {},
   "outputs": [],
   "source": [
    "%%time\n",
    "\n",
    "#Part one: Use Genre1\n",
    "\n",
    "#Testcode\n",
    "predictions = groundtruth['genre1'].copy()\n",
    "predictions[:100] = 'hiphop'\n",
    "print groundtruth.head()\n",
    "print predictions.head()\n",
    "\n",
    "#Running code\n",
    "comparison = compareGroundTruth(predictions, groundtruth['genre1'])\n",
    "results = evaluatePredictions(comparison, groundtruth['genre1'])\n",
    "\n",
    "#Part two: Use multigenre.\n",
    "#predictions = groundtruth['main_genres']\n",
    "#comparison = compareGroundTruth(predictions, groundtruth['main_genres'])\n",
    "#results = evaluatePredictions(comparison, groundtruth['main_genres'])"
   ]
  },
  {
   "cell_type": "code",
   "execution_count": null,
   "metadata": {},
   "outputs": [],
   "source": []
  },
  {
   "cell_type": "code",
   "execution_count": null,
   "metadata": {},
   "outputs": [],
   "source": []
  }
 ],
 "metadata": {
  "kernelspec": {
   "display_name": "Python 2",
   "language": "python",
   "name": "python2"
  },
  "language_info": {
   "codemirror_mode": {
    "name": "ipython",
    "version": 2
   },
   "file_extension": ".py",
   "mimetype": "text/x-python",
   "name": "python",
   "nbconvert_exporter": "python",
   "pygments_lexer": "ipython2",
   "version": "2.7.12"
  }
 },
 "nbformat": 4,
 "nbformat_minor": 2
}
