{
 "cells": [
  {
   "cell_type": "code",
   "execution_count": null,
   "metadata": {
    "deletable": true,
    "editable": true
   },
   "outputs": [],
   "source": [
    "%run Utilities.ipynb\n"
   ]
  },
  {
   "cell_type": "code",
   "execution_count": null,
   "metadata": {
    "deletable": true,
    "editable": true
   },
   "outputs": [],
   "source": [
    "# Read tsv file into groundtruth and extract only id and main genre from it\n",
    "groundtruth = load_groundtruth(settings['path'] + 'groundtruth/acousticbrainz-mediaeval2017-tagtraum-train.tsv')\n",
    "\n",
    "print 'Groundtruth size: %d' % len(groundtruth)\n",
    "print 'Found {} uniquse genres.'.format(len(groundtruth['genre1'].unique()))\n"
   ]
  },
  {
   "cell_type": "markdown",
   "metadata": {
    "deletable": true,
    "editable": true
   },
   "source": [
    "## Data Understanding"
   ]
  },
  {
   "cell_type": "code",
   "execution_count": null,
   "metadata": {
    "deletable": true,
    "editable": true
   },
   "outputs": [],
   "source": [
    "from collections import Counter\n",
    "genre = Counter(groundtruth.genre1).keys() # equals to list(set(words))\n",
    "counter = Counter(groundtruth.genre1).values() # counts the elements' frequency\n",
    "\n",
    "df = pd.DataFrame(genre)\n",
    "df_2 = pd.DataFrame(counter)\n",
    "df_new = pd.concat([df, df_2], axis=1)\n",
    "df_new"
   ]
  },
  {
   "cell_type": "code",
   "execution_count": null,
   "metadata": {
    "deletable": true,
    "editable": true
   },
   "outputs": [],
   "source": [
    "import numpy as np\n",
    "import pandas as pd\n",
    "import matplotlib.pyplot as plt\n",
    "\n",
    "groundtruth.genre1.value_counts().plot(kind='bar')\n",
    "plt.show()\n",
    " #show power distribution"
   ]
  },
  {
   "cell_type": "markdown",
   "metadata": {
    "deletable": true,
    "editable": true
   },
   "source": [
    "## Load training data"
   ]
  },
  {
   "cell_type": "code",
   "execution_count": null,
   "metadata": {
    "deletable": true,
    "editable": true
   },
   "outputs": [],
   "source": [
    "training_data = groundtruth['recordingmbid'].apply(getOnlyUsedFeatures)\n",
    "\n",
    "print training_data.head()"
   ]
  },
  {
   "cell_type": "markdown",
   "metadata": {
    "deletable": true,
    "editable": true
   },
   "source": [
    "### See distribution of average loudness of each genre music"
   ]
  },
  {
   "cell_type": "code",
   "execution_count": null,
   "metadata": {
    "deletable": true,
    "editable": true
   },
   "outputs": [],
   "source": [
    "myset = set(groundtruth['genre1'])"
   ]
  },
  {
   "cell_type": "code",
   "execution_count": null,
   "metadata": {
    "deletable": true,
    "editable": true
   },
   "outputs": [],
   "source": [
    "%matplotlib inline \n",
    "import numpy as np\n",
    "\n",
    "hist_loudness = np.arange(10)\n",
    "j=0\n",
    "\n",
    "for i in myset:    \n",
    "    groundtruth_genre = groundtruth[groundtruth['genre1'] == i]\n",
    "    training_data_genre = groundtruth_genre['recordingmbid'].apply(getOnlyUsedFeatures)\n",
    "    print i\n",
    "    loud = plt.hist(training_data_genre[13])\n",
    "    print np.shape(loud[0])\n",
    "    hist_loudness = np.vstack((hist_loudness, loud[0]))\n",
    "    j = j+1\n",
    "    plt.hist(training_data_genre[13])\n",
    "    plt.show()\n",
    "    plt.clf()"
   ]
  },
  {
   "cell_type": "markdown",
   "metadata": {
    "deletable": true,
    "editable": true
   },
   "source": [
    "### See distribution of spectral energy mean of each genre"
   ]
  },
  {
   "cell_type": "code",
   "execution_count": null,
   "metadata": {
    "deletable": true,
    "editable": true
   },
   "outputs": [],
   "source": [
    "%matplotlib inline \n",
    "import numpy as np\n",
    "\n",
    "hist_energy = np.arange(10)\n",
    "j=0\n",
    "\n",
    "for i in myset:    \n",
    "    groundtruth_genre = groundtruth[groundtruth['genre1'] == i]\n",
    "    training_data_genre = groundtruth_genre['recordingmbid'].apply(getOnlyUsedFeatures)\n",
    "    print i\n",
    "    energy = plt.hist(training_data_genre[14])\n",
    "    print np.shape(loud[0])\n",
    "    hist_energy = np.vstack((hist_energy, energy[0]))\n",
    "    j = j+1\n",
    "    plt.hist(training_data_genre[14])\n",
    "    plt.show()\n",
    "    plt.clf()"
   ]
  },
  {
   "cell_type": "markdown",
   "metadata": {
    "deletable": true,
    "editable": true
   },
   "source": [
    "## Normalize Value in Array"
   ]
  },
  {
   "cell_type": "code",
   "execution_count": null,
   "metadata": {
    "deletable": true,
    "editable": true
   },
   "outputs": [],
   "source": [
    "genre_count = np.shape(hist_loudness)[0]\n",
    "\n",
    "np.amax(hist_loudness[14])\n",
    "\n",
    "for i in range(genre_count):\n",
    "    max_value = np.amax(hist_loudness[i])\n",
    "    array_length = np.shape(hist_loudness)[1]\n",
    "    for j in range(array_length):\n",
    "        hist_loudness[i,j] = hist_loudness[i,j]/max_value\n",
    "        "
   ]
  },
  {
   "cell_type": "code",
   "execution_count": null,
   "metadata": {
    "deletable": true,
    "editable": true
   },
   "outputs": [],
   "source": [
    "hist_loudness"
   ]
  },
  {
   "cell_type": "markdown",
   "metadata": {
    "deletable": true,
    "editable": true
   },
   "source": [
    "## Calculate Similarity"
   ]
  },
  {
   "cell_type": "code",
   "execution_count": null,
   "metadata": {
    "deletable": true,
    "editable": true
   },
   "outputs": [],
   "source": [
    "def histograms_similarity(histogram0, histogram1):\n",
    "  hs_sim = histogram0.astype(np.float32) - histogram1.astype(np.float32)\n",
    "  sim = 0\n",
    "  for i in range(0, hs_sim.size):\n",
    "    if(hs_sim[i] < 0):\n",
    "      sim = sim + histogram0[i]\n",
    "    else:\n",
    "      sim = sim + histogram1[i]\n",
    "     \n",
    "  return sim"
   ]
  },
  {
   "cell_type": "code",
   "execution_count": null,
   "metadata": {
    "deletable": true,
    "editable": true
   },
   "outputs": [],
   "source": [
    "# Example.\n",
    "print '1 vs 2: %.6f' % histograms_similarity(\n",
    "    hist_loudness[0, :],\n",
    "    hist_loudness[5, :])"
   ]
  },
  {
   "cell_type": "code",
   "execution_count": null,
   "metadata": {
    "deletable": true,
    "editable": true
   },
   "outputs": [],
   "source": [
    "def compute_self_similarity(feature_vector_matrix, similarity_function = histograms_similarity):\n",
    "  matsize = np.shape(feature_vector_matrix)[0]\n",
    "  sim_matrix = np.zeros((matsize, matsize))\n",
    "  for i in range(0, matsize):\n",
    "    for j in range(0, matsize):\n",
    "        sim_matrix[i, j] = similarity_function(feature_vector_matrix[i,:], feature_vector_matrix[j,:])\n",
    "  return sim_matrix"
   ]
  },
  {
   "cell_type": "markdown",
   "metadata": {
    "deletable": true,
    "editable": true
   },
   "source": [
    "## Create Similarity Matrix"
   ]
  },
  {
   "cell_type": "code",
   "execution_count": null,
   "metadata": {
    "deletable": true,
    "editable": true
   },
   "outputs": [],
   "source": [
    "histograms_self_similarity = compute_self_similarity(\n",
    "    hist_loudness, histograms_similarity)\n",
    "print 'HS histograms self-similarity matrix size: %d x %d' % np.shape(histograms_self_similarity)"
   ]
  },
  {
   "cell_type": "code",
   "execution_count": null,
   "metadata": {
    "deletable": true,
    "editable": true
   },
   "outputs": [],
   "source": [
    "np.amax(histograms_self_similarity)"
   ]
  },
  {
   "cell_type": "code",
   "execution_count": null,
   "metadata": {
    "deletable": true,
    "editable": true
   },
   "outputs": [],
   "source": [
    "%matplotlib notebook\n",
    "\n",
    "plt.figure()\n",
    "plt.imshow(histograms_self_similarity)"
   ]
  },
  {
   "cell_type": "markdown",
   "metadata": {
    "deletable": true,
    "editable": true
   },
   "source": [
    "## Create Dissimilarity Matrix"
   ]
  },
  {
   "cell_type": "code",
   "execution_count": null,
   "metadata": {
    "deletable": true,
    "editable": true
   },
   "outputs": [],
   "source": [
    "def histograms_dissimilarity(histogram0, histogram1):\n",
    "  hs_dsim = abs(histogram0.astype(np.float32) - histogram1.astype(np.float32))\n",
    "  dsim = 0\n",
    "  for i in range(hs_dsim.size):\n",
    "    dsim = dsim + hs_dsim[i]\n",
    "     \n",
    "  return dsim"
   ]
  },
  {
   "cell_type": "code",
   "execution_count": null,
   "metadata": {
    "deletable": true,
    "editable": true
   },
   "outputs": [],
   "source": [
    "histograms_dissimilarity(hist_loudness[0, :], hist_loudness[1, :])"
   ]
  },
  {
   "cell_type": "code",
   "execution_count": null,
   "metadata": {
    "deletable": true,
    "editable": true
   },
   "outputs": [],
   "source": [
    "# Example.\n",
    "print '1 vs 2: %.2f' % histograms_dissimilarity(\n",
    "    hist_loudness[0, :],\n",
    "    hist_loudness[5, :])"
   ]
  },
  {
   "cell_type": "code",
   "execution_count": null,
   "metadata": {
    "deletable": true,
    "editable": true
   },
   "outputs": [],
   "source": [
    "def compute_self_dissimilarity(feature_vector_matrix, dissimilarity_function = histograms_dissimilarity):\n",
    "  matsize = np.shape(feature_vector_matrix)[0]\n",
    "  dsim_matrix = np.zeros((matsize, matsize))\n",
    "  for i in range(0, matsize):\n",
    "    for j in range(0, matsize):\n",
    "        dsim_matrix[i, j] = dissimilarity_function(feature_vector_matrix[i,:], feature_vector_matrix[j,:])\n",
    "  return dsim_matrix"
   ]
  },
  {
   "cell_type": "code",
   "execution_count": null,
   "metadata": {
    "deletable": true,
    "editable": true
   },
   "outputs": [],
   "source": [
    "histograms_self_dissimilarity = compute_self_dissimilarity(\n",
    "    hist_loudness, histograms_dissimilarity)\n",
    "print 'HS histograms self-dissimilarity matrix size: %d x %d' % np.shape(histograms_self_dissimilarity)"
   ]
  },
  {
   "cell_type": "code",
   "execution_count": null,
   "metadata": {
    "deletable": true,
    "editable": true
   },
   "outputs": [],
   "source": [
    "%matplotlib notebook\n",
    "\n",
    "plt.figure()\n",
    "plt.imshow(histograms_self_dissimilarity)"
   ]
  },
  {
   "cell_type": "code",
   "execution_count": null,
   "metadata": {
    "deletable": true,
    "editable": true
   },
   "outputs": [],
   "source": [
    "myset"
   ]
  }
 ],
 "metadata": {
  "kernelspec": {
   "display_name": "mmsr",
   "language": "python",
   "name": "mmsr"
  },
  "language_info": {
   "codemirror_mode": {
    "name": "ipython",
    "version": 2
   },
   "file_extension": ".py",
   "mimetype": "text/x-python",
   "name": "python",
   "nbconvert_exporter": "python",
   "pygments_lexer": "ipython2",
   "version": "2.7.12+"
  }
 },
 "nbformat": 4,
 "nbformat_minor": 2
}
